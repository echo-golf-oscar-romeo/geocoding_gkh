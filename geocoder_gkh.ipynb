{
 "cells": [
  {
   "cell_type": "code",
   "execution_count": 1,
   "id": "779210f5",
   "metadata": {},
   "outputs": [],
   "source": [
    "# importing libraries\n",
    "\n",
    "import pandas as pd\n",
    "import numpy as np\n",
    "from geopy.geocoders import Nominatim\n",
    "from time import time, sleep\n",
    "from tqdm.notebook import tqdm"
   ]
  },
  {
   "cell_type": "code",
   "execution_count": 2,
   "id": "b2878279",
   "metadata": {},
   "outputs": [],
   "source": [
    "# configuring geolocator\n",
    "\n",
    "geolocator = Nominatim(user_agent=\"echo_golf_oscar_romeo\") # use your user_agent"
   ]
  },
  {
   "cell_type": "code",
   "execution_count": 3,
   "id": "1d27d916",
   "metadata": {},
   "outputs": [],
   "source": [
    "# geocoder itself\n",
    "\n",
    "def geocoder(row):\n",
    "    try:\n",
    "        point = geolocator.geocode(row).point\n",
    "        return pd.Series({'Latitude': point.latitude, 'Longitude': point.longitude})\n",
    "    except:\n",
    "        return pd.Series({'Latitude': None, 'Longitude': None})\n",
    "    \n",
    "    \n",
    "# rewriting house number and block/letter\n",
    "\n",
    "def house_number(x):\n",
    "    a = x.replace(' ', '').replace(',', '').replace('.', '').replace('№', '')\n",
    "    if (a.find('корпус') or a.find('стр')) != -1:\n",
    "        a = a.replace('корпус', 'к').replace('стр', 'с') \n",
    "    if (a.find('к') or a.find('с')) != -1 and a[-1].isalpha():\n",
    "        a = a.replace('к', '').replace('с', '')\n",
    "\n",
    "    return a\n",
    "\n",
    "    \n",
    "# rewriting address\n",
    "\n",
    "def correct_address(buildings, city='any'):\n",
    "    if city != 'any':\n",
    "        buildings = buildings.loc[buildings[\"formalname_city\"] == city]\n",
    "#     city\n",
    "    buildings.loc[:, 'address_upd'] = buildings.loc[:, 'formalname_city'] + ', ' + buildings.loc[:, 'formalname_street']\n",
    "    \n",
    "    for row in buildings.iterrows():\n",
    "        try:\n",
    "#             street\n",
    "            if row[1][11] == ('ул' or 'Ул') and row[1][12][0].isdigit():\n",
    "                buildings.loc[row[0], 'address_upd'] += ' улица'\n",
    "            elif row[1][11] == 'мкр' and row[1][12][0].isdigit():\n",
    "                buildings.loc[row[0], 'address_upd'] += ' микрорайон'\n",
    "            elif row[1][11] == 'кв-л' and row[1][12][0].isdigit():\n",
    "                buildings.loc[row[0], 'address_upd'] += ' квартал'\n",
    "\n",
    "#             house number and block/letter\n",
    "            if row[1][17].find(' д. ') != -1:\n",
    "                buildings.loc[row[0], 'address_upd'] += (', ' + house_number(row[1][17][(row[1][17].find(' д. ') + 4):]))\n",
    "            else:\n",
    "                buildings.loc[row[0], 'address_upd'] += (', ' + row[1][13])\n",
    "        except: buildings.loc[row[0], 'address_upd'] = row[1][17]\n",
    "            \n",
    "    return buildings"
   ]
  },
  {
   "cell_type": "code",
   "execution_count": 4,
   "id": "529ecd3d",
   "metadata": {},
   "outputs": [],
   "source": [
    "# your data\n",
    "\n",
    "buildings = pd.read_csv(r\"tver.csv\", sep=';') # specify the directory of data"
   ]
  },
  {
   "cell_type": "code",
   "execution_count": 5,
   "id": "c4e9218b",
   "metadata": {
    "scrolled": true
   },
   "outputs": [
    {
     "name": "stdout",
     "output_type": "stream",
     "text": [
      "There are 2800 addresses to geocode!\n"
     ]
    },
    {
     "data": {
      "application/json": {
       "ascii": false,
       "bar_format": null,
       "colour": null,
       "elapsed": 0.06199908256530762,
       "initial": 0,
       "n": 0,
       "ncols": null,
       "nrows": 29,
       "postfix": null,
       "prefix": "",
       "rate": null,
       "total": 2800,
       "unit": "it",
       "unit_divisor": 1000,
       "unit_scale": false
      },
      "application/vnd.jupyter.widget-view+json": {
       "model_id": "3d5ce60a103d41969fc9a9395e222576",
       "version_major": 2,
       "version_minor": 0
      },
      "text/plain": [
       "  0%|          | 0/2800 [00:00<?, ?it/s]"
      ]
     },
     "metadata": {},
     "output_type": "display_data"
    },
    {
     "name": "stdout",
     "output_type": "stream",
     "text": [
      "--- 1402.77 seconds ---\n",
      "93.0% of addresses were geocoded!\n"
     ]
    }
   ],
   "source": [
    "# let's geocode it!\n",
    "tqdm.pandas()\n",
    "start_time = time()\n",
    "print('There are {} addresses to geocode!'.format(\n",
    "    buildings.shape[0]))\n",
    "buildings = correct_address(buildings, city='Тверь')\n",
    "coor = buildings.progress_apply(lambda x: geocoder(x['address_upd']), axis=1)\n",
    "print(\"--- %s seconds ---\" % round(time() - start_time, 2))\n",
    "print(\"{}% of addresses were geocoded!\".format(\n",
    "    round((1 - sum(np.isnan(coor[\"Latitude\"])) / len(coor)) * 100, 2)))\n",
    "buildings[\"Latitude\"] = coor.Latitude\n",
    "buildings[\"Longitude\"] = coor.Longitude"
   ]
  },
  {
   "cell_type": "code",
   "execution_count": 6,
   "id": "4f02a775",
   "metadata": {},
   "outputs": [],
   "source": [
    "# saving your data\n",
    "\n",
    "buildings.to_csv(r\"tver_geocoded.csv\", encoding='utf-8') # specify the directory to store the result"
   ]
  }
 ],
 "metadata": {
  "kernelspec": {
   "display_name": "Python 3 (ipykernel)",
   "language": "python",
   "name": "python3"
  },
  "language_info": {
   "codemirror_mode": {
    "name": "ipython",
    "version": 3
   },
   "file_extension": ".py",
   "mimetype": "text/x-python",
   "name": "python",
   "nbconvert_exporter": "python",
   "pygments_lexer": "ipython3",
   "version": "3.9.6"
  }
 },
 "nbformat": 4,
 "nbformat_minor": 5
}
